{
 "cells": [
  {
   "cell_type": "markdown",
   "metadata": {},
   "source": [
    "# Python Básico para Computação Numérica 2"
   ]
  },
  {
   "cell_type": "markdown",
   "metadata": {},
   "source": [
    "Visualizar informações é importantíssimo em Computação Numérica\n",
    "\n",
    "_Plotar_ uma função é desenhar a mesma em um eixo de coordenadas, normalmente através da escolha de _N_ pontos da função, calculndo seus valores, e desenhando retas (ou curvas) entre eles. Quanto mais pontos usados, mais suave é a curva.\n",
    "\n",
    "Normalmente o processo de plot involve gerar dois vetores _x_ e _y_, com _x_ contendo o valor no eixo das abcissas, e _y_ o valor no eixo das ordendas.\n",
    "\n",
    "Ex: _x_ contendo valores linermente espaçados em um intervalo [a,b], e _y_ contendo os valores de $f(x),\\forall x$\n",
    "\n",
    "\n",
    "\n",
    "## Gráficos Básicos\n",
    "\n",
    "A biblioteca que usaremos para manipulação de gráficos em Python é a MatPlotLib. Usaremos ela não apenas por ser a mais popular e poderosa, mas também por ela ser +- compatível com o Matlab, que vocês tem chance de encontrar por aí. "
   ]
  },
  {
   "cell_type": "code",
   "execution_count": null,
   "metadata": {},
   "outputs": [],
   "source": [
    "!pip3 install matplotlib --user\n",
    "import matplotlib.pyplot as plt\n",
    "%matplotlib inline"
   ]
  },
  {
   "cell_type": "code",
   "execution_count": null,
   "metadata": {},
   "outputs": [],
   "source": [
    "plt.plot([1,2,3,4])\n",
    "plt.ylabel('números')\n",
    "plt.show()"
   ]
  },
  {
   "cell_type": "markdown",
   "metadata": {},
   "source": [
    "De onde veio esse eixo x? Se o plot só recebe um vetor, ele assume que o eixo X são números monoespaçados iniciando de 0\n",
    "\n",
    "No geral, num plot se espera pelo menos dois vetores _x_ e _y_, ou ainda mais."
   ]
  },
  {
   "cell_type": "code",
   "execution_count": null,
   "metadata": {},
   "outputs": [],
   "source": [
    "plt.plot([1, 2, 3, 4], [1, 4, 9, 16])"
   ]
  },
  {
   "cell_type": "markdown",
   "metadata": {},
   "source": [
    "Um terceiro argumento possível para o plot é uma string que define qual o estilo da linha plotada. O padrão é 'b-', o que é uma linha azul. Por exemplo, para círculos vermelhos, use:"
   ]
  },
  {
   "cell_type": "code",
   "execution_count": null,
   "metadata": {},
   "outputs": [],
   "source": [
    "plt.plot([1,2,3,4], [1,4,9,16], 'ro--')\n",
    "plt.axis([1, 4, 0, 20])\n",
    "plt.show()"
   ]
  },
  {
   "cell_type": "code",
   "execution_count": null,
   "metadata": {},
   "outputs": [],
   "source": [
    "help(plt.plot)"
   ]
  },
  {
   "cell_type": "markdown",
   "metadata": {},
   "source": [
    "O que o comando `plt.axis()` faz?\n",
    "\n",
    "Uma vantagem do Matplotlib é que ele funciona com o Numpy (incluindo as vantagens da vetorização). \n",
    "\n",
    "Ex: Vamos plotar diversas operações sobre o mesmo conjunto de dados (`t`) em uma única imagem, usando plot com diversos parâmetros:"
   ]
  },
  {
   "cell_type": "code",
   "execution_count": null,
   "metadata": {},
   "outputs": [],
   "source": [
    "import numpy as np\n",
    "t = np.arange(0., 5., 0.2)\n",
    "\n",
    "\n",
    "plt.plot(t, t, 'r--', t, t**2, 'bs', t, t**3, 'g^-')\n",
    "plt.plot(t,t*2,'y-.')\n",
    "plt.show()"
   ]
  },
  {
   "cell_type": "markdown",
   "metadata": {},
   "source": [
    "Se você quiser plotar um único ponto, você pode usar no lugar das listas com pontos apenas um:"
   ]
  },
  {
   "cell_type": "code",
   "execution_count": null,
   "metadata": {},
   "outputs": [],
   "source": [
    "x = np.array([-2,-1,0,1,2])\n",
    "y = x*2\n",
    "\n",
    "plt.plot(x,y,-0.2,0,'r|',0.2,0,'r|')\n",
    "plt.axhline(0, color='black',linewidth=1)"
   ]
  },
  {
   "cell_type": "markdown",
   "metadata": {},
   "source": [
    "### Plotando funções\n",
    "\n",
    "Para plotar funções é bem simples:\n",
    "\n",
    "- Primeiro você define a função \n",
    "- Depois os pontos X\n",
    "- Em seguida você plota X, f(X)\n",
    "\n",
    "Exemplo:\n",
    "\n",
    "Plotar \\begin{equation}f(x)=\\frac{e^{x}-1}{x}\\end{equation} para o intervalo $[1,7]$"
   ]
  },
  {
   "cell_type": "code",
   "execution_count": null,
   "metadata": {},
   "outputs": [],
   "source": [
    "def funcao(x):\n",
    "    return (np.exp(x)-1)/x\n",
    "\n",
    "x = np.linspace(1,8,100)\n",
    "y = funcao(x)\n",
    "plt.plot(x,y,'r-')"
   ]
  },
  {
   "cell_type": "markdown",
   "metadata": {},
   "source": [
    "### Exercícios\n",
    "\n",
    "Plote \n",
    "\n",
    "\\begin{equation}h(x)=\\frac{1}{\\sqrt{2\\pi}}e^{-\\frac{1}{2}x^2}\\end{equation}\n",
    "\n",
    "Para o intervalo [-4,4] com 41 pontos"
   ]
  },
  {
   "cell_type": "code",
   "execution_count": null,
   "metadata": {},
   "outputs": [],
   "source": []
  },
  {
   "cell_type": "markdown",
   "metadata": {},
   "source": [
    "### Mudando propriedades de linhas\n",
    "\n",
    "Linhas em gráficos tem diversos atributos modificáveis (verifique matplotlib.lines.Line2D com o help para mais detalhes). Como alterar? tem três formas:\n",
    "\n",
    "- Keywords no plot:"
   ]
  },
  {
   "cell_type": "code",
   "execution_count": null,
   "metadata": {},
   "outputs": [],
   "source": [
    "plt.plot(x,y,linewidth=4.0,antialiased=False)"
   ]
  },
  {
   "cell_type": "markdown",
   "metadata": {},
   "source": [
    "- Metodos Set: a função plot retorna uma lista de objetos referente a cada uma das linhas criadas, e você pode usar funções dele pra alterar valores"
   ]
  },
  {
   "cell_type": "code",
   "execution_count": null,
   "metadata": {},
   "outputs": [],
   "source": [
    "linha, = plt.plot(x,y,'-')\n",
    "linha.set_antialiased(False)"
   ]
  },
  {
   "cell_type": "markdown",
   "metadata": {},
   "source": [
    "- Função setp(), que pode alterar várias propriedades ao mesmo tempo:"
   ]
  },
  {
   "cell_type": "code",
   "execution_count": null,
   "metadata": {},
   "outputs": [],
   "source": [
    "linhas = plt.plot(x,y,x,y**2)\n",
    "\n",
    "plt.setp(linhas[0],color='r',linewidth=2.0)\n",
    "plt.setp(linhas[1],color='g',linewidth=4.0,aa=False)"
   ]
  },
  {
   "cell_type": "markdown",
   "metadata": {},
   "source": [
    "Lista de possíveis atributos:"
   ]
  },
  {
   "cell_type": "code",
   "execution_count": null,
   "metadata": {},
   "outputs": [],
   "source": [
    "plt.setp(linha)"
   ]
  },
  {
   "cell_type": "markdown",
   "metadata": {},
   "source": [
    "## Múltiplas imagens e eixos\n",
    "\n",
    "Podemos trabalhar com múltiplas figuras em um único plot, usando o conceito de subplot:"
   ]
  },
  {
   "cell_type": "code",
   "execution_count": null,
   "metadata": {},
   "outputs": [],
   "source": [
    "def f(t):\n",
    "    return np.exp(-t) * np.cos(2*np.pi*t)\n",
    "\n",
    "t1 = np.arange(0.0, 5.0, 0.1)\n",
    "t2 = np.arange(0.0, 5.0, 0.02)\n",
    "\n",
    "plt.figure(5)\n",
    "plt.subplot(2,3,1)\n",
    "plt.plot(t1, f(t1), 'bo', t2, f(t2), 'k')\n",
    "\n",
    "plt.subplot(232)\n",
    "plt.plot(t2, np.cos(2*np.pi*t2), 'r--')\n",
    "plt.show()\n"
   ]
  },
  {
   "cell_type": "markdown",
   "metadata": {},
   "source": [
    "O comando `subplot()` recebe como parâmetro `nlinhas,ncolunas,indice`, onde `indice` é um número entre 1 e `nlinhas*ncolunas` (subplot pode ser feito tmbém sem as vírgulas como nos exemplos)"
   ]
  },
  {
   "cell_type": "code",
   "execution_count": null,
   "metadata": {},
   "outputs": [],
   "source": [
    "plt.figure(1)                \n",
    "plt.subplot(121)             \n",
    "plt.plot([1, 2, 3])\n",
    "plt.subplot(122)             \n",
    "plt.plot([4, 5, 6])\n",
    "\n",
    "\n",
    "plt.figure(2)  # Cria uma nova figura              \n",
    "plt.plot([4, 5, 6])          \n",
    "\n",
    "plt.figure(1)  # Volta para a primeira figura\n",
    "plt.subplot(121)             \n",
    "plt.title('Titulo do primeiro grafico') "
   ]
  },
  {
   "cell_type": "markdown",
   "metadata": {},
   "source": [
    "### Exercício:\n",
    "\n",
    "Plote as funções \\begin{equation}f_{1}(t)=t^{2}e^{-t^{2}}\\end{equation} e \\begin{equation}f_{2}(t)=t^{4}e^{-t^{2}}\\end{equation} em uma mesma imagem:"
   ]
  },
  {
   "cell_type": "code",
   "execution_count": null,
   "metadata": {},
   "outputs": [],
   "source": []
  },
  {
   "cell_type": "markdown",
   "metadata": {},
   "source": [
    "Você pode limpar configurações na figura atual com `clf()`. \n",
    "\n",
    "## Adicionando texto ao gráfico\n"
   ]
  },
  {
   "cell_type": "markdown",
   "metadata": {},
   "source": [
    "A função `text()` pode ser usada para adicionar um texto a qualquer parte de uma imagem. `xlabel()`,`ylabel()` e `title()` podem ser usados para adicionar legendas à imagem"
   ]
  },
  {
   "cell_type": "code",
   "execution_count": null,
   "metadata": {},
   "outputs": [],
   "source": [
    "np.random.seed(19680801)\n",
    "\n",
    "mu, sigma = 100, 15\n",
    "val = mu + sigma * np.random.randn(10000)\n",
    "\n",
    "# Histograma eh outro tipo de grafico\n",
    "n, bins, patches = plt.hist(val, 50, normed=1, facecolor='g', alpha=0.75)\n",
    "\n",
    "\n",
    "plt.xlabel('Inteligencia')\n",
    "plt.ylabel('Probabilidade')\n",
    "plt.title('Histograma de QI')\n",
    "plt.text(60, .025, r'$\\mu=100,\\ \\sigma=15$',color='g',fontsize=16)\n",
    "plt.axis([40, 160, 0, 0.03])\n",
    "plt.grid(True)\n",
    "plt.show()"
   ]
  },
  {
   "cell_type": "markdown",
   "metadata": {},
   "source": [
    "Todas as funções de texto retornam um objeto que você pode alterar as propriedades, da mesma forma que as linhas:"
   ]
  },
  {
   "cell_type": "code",
   "execution_count": null,
   "metadata": {},
   "outputs": [],
   "source": [
    "t = plt.xlabel('Inteligencia', fontsize=14, color='red')"
   ]
  },
  {
   "cell_type": "markdown",
   "metadata": {},
   "source": [
    "A função `legend()` adiciona uma caixa de legendas para identificar as curvas no plot:"
   ]
  },
  {
   "cell_type": "code",
   "execution_count": null,
   "metadata": {},
   "outputs": [],
   "source": [
    "x = y = np.arange(-4,4,0.1)\n",
    "plt.plot(x,y,\"r-\",x,y**2,\"bo--\")\n",
    "plt.legend(['Linear','Quadratico'])"
   ]
  },
  {
   "cell_type": "markdown",
   "metadata": {},
   "source": [
    "Muitas vezes você quer adicionar um texto a uma parte de um gráfico com algum tipo de indicação. Para isto você pode usar o comando `annotate()`. Ele adiciona texto a um ponto especifico do gráfico. Ele tem duas coordenadas importantes: O `xy` do ponto anotado e o `xytext`, que é a posição onde o texto estará."
   ]
  },
  {
   "cell_type": "code",
   "execution_count": null,
   "metadata": {},
   "outputs": [],
   "source": [
    "ax = plt.subplot(111)\n",
    "\n",
    "t = np.arange(0.0, 5.0, 0.01)\n",
    "s = np.cos(2*np.pi*t)\n",
    "line, = plt.plot(t, s, lw=2)\n",
    "\n",
    "plt.annotate('Maximo Local', xy=(2, 1), xytext=(3, 1.5),\n",
    "            arrowprops=dict(facecolor='black', shrink=0.05),\n",
    "            )\n",
    "\n",
    "plt.ylim(-2,2)\n",
    "plt.show()"
   ]
  },
  {
   "cell_type": "code",
   "execution_count": null,
   "metadata": {},
   "outputs": [],
   "source": [
    "import numpy as np\n",
    "import matplotlib.pyplot as plt\n",
    "\n",
    "x2 = np.linspace(-1.5,2.5,1000)\n",
    "y2 = 2*x2**3-np.cos(x2+1)-3\n",
    "\n",
    "plt.plot(x2,y2,-1,0,'r|',2,0,'r|')\n",
    "plt.axhline(0, color='black',linewidth=1)\n",
    "plt.annotate('a',xy=(-1,0),xytext=(-1,1),color=\"red\")\n",
    "plt.annotate('b',xy=(2,0),xytext=(1.9,1),color=\"red\")"
   ]
  },
  {
   "cell_type": "markdown",
   "metadata": {},
   "source": [
    "## Eixos não lineares\n",
    "\n",
    "Muitas vezes, quando temos dados em escala maiores, é normal mostrar os dados em escalas logaritimas ou logit. No matplotlib isso é tão simples quanto `xscale('log')`"
   ]
  },
  {
   "cell_type": "code",
   "execution_count": null,
   "metadata": {},
   "outputs": [],
   "source": [
    "from matplotlib.ticker import NullFormatter  # useful for `logit` scale\n",
    "\n",
    "np.random.seed(19680801)\n",
    "\n",
    "y = np.random.normal(loc=0.5, scale=0.4, size=1000)\n",
    "y = y[(y > 0) & (y < 1)]\n",
    "y.sort()\n",
    "x = np.arange(len(y))\n",
    "\n",
    "\n",
    "plt.figure(1)\n",
    "\n",
    "# linear\n",
    "plt.subplot(221)\n",
    "plt.plot(x, y)\n",
    "plt.yscale('linear')\n",
    "plt.title('linear')\n",
    "plt.grid(True)\n",
    "\n",
    "\n",
    "# log\n",
    "plt.subplot(222)\n",
    "plt.plot(x, y)\n",
    "plt.yscale('log')\n",
    "plt.title('log')\n",
    "plt.grid(True)\n",
    "\n",
    "\n",
    "# symmetric log\n",
    "plt.subplot(223)\n",
    "plt.plot(x, y - y.mean())\n",
    "plt.yscale('symlog', linthreshy=0.01)\n",
    "plt.title('symlog')\n",
    "plt.grid(True)\n",
    "\n",
    "# logit\n",
    "plt.subplot(224)\n",
    "plt.plot(x, y)\n",
    "plt.yscale('logit')\n",
    "plt.title('logit')\n",
    "plt.grid(True)\n",
    "\n",
    "plt.gca().yaxis.set_minor_formatter(NullFormatter())\n",
    "\n",
    "plt.subplots_adjust(top=1.22, bottom=0.08, left=0.10, right=0.95, hspace=0.25,\n",
    "                    wspace=0.35)\n",
    "\n",
    "plt.show()"
   ]
  },
  {
   "cell_type": "markdown",
   "metadata": {},
   "source": [
    "## Outros embelezamentos\n",
    "\n",
    "Vamos tentar agora visualizar outros pequenos detalhes que podemos modificar no gráfico para ele ficar mais interessante. Vamos pegar um plot simples de seno e cosseno:"
   ]
  },
  {
   "cell_type": "code",
   "execution_count": null,
   "metadata": {},
   "outputs": [],
   "source": [
    "\n",
    "X = np.linspace(-np.pi, np.pi, 256, endpoint=True)\n",
    "C,S = np.cos(X), np.sin(X)\n",
    "\n",
    "plt.plot(X, C, color=\"blue\", linewidth=2.5, linestyle=\"-\")\n",
    "plt.plot(X, S, color=\"red\",  linewidth=2.5, linestyle=\"-\")\n",
    "\n",
    "plt.show()"
   ]
  },
  {
   "cell_type": "markdown",
   "metadata": {},
   "source": [
    "Se achamos que a figura está muito apertada para os dados, podemos alterar os limites do gráfico. Vamos também adicionar uma legenda ao gráfico:"
   ]
  },
  {
   "cell_type": "code",
   "execution_count": null,
   "metadata": {},
   "outputs": [],
   "source": [
    "plt.xlim(X.min()*1.3, X.max()*1.3)\n",
    "plt.ylim(C.min()*1.3, C.max()*1.3)\n",
    "\n",
    "plt.plot(X, C, color=\"blue\", linewidth=2.5, linestyle=\"-\", label=\"cosseno\")\n",
    "plt.plot(X, S, color=\"red\",  linewidth=2.5, linestyle=\"-\", label=\"seno\")\n",
    "\n",
    "plt.legend(loc='upper left', frameon=False)\n",
    "\n",
    "plt.show()"
   ]
  },
  {
   "cell_type": "markdown",
   "metadata": {},
   "source": [
    "Os pontos nos eixos não estão ideais. Afinal, estamos falando de ângulos, então o ideal seria valores baseados em $\\pi$. Para mudar os pontos nos eixos (chamados _ticks_), faça:"
   ]
  },
  {
   "cell_type": "code",
   "execution_count": null,
   "metadata": {},
   "outputs": [],
   "source": [
    "plt.xticks( [-np.pi, -np.pi/2, 0, np.pi/2, np.pi])\n",
    "plt.yticks([-1, 0, +1])\n",
    "\n",
    "plt.plot(X, C, color=\"blue\", linewidth=2.5, linestyle=\"-\", label=\"cosseno\")\n",
    "plt.plot(X, S, color=\"red\",  linewidth=2.5, linestyle=\"-\", label=\"seno\")\n",
    "\n",
    "plt.legend(loc='upper left', frameon=False)\n",
    "\n",
    "plt.show()"
   ]
  },
  {
   "cell_type": "markdown",
   "metadata": {},
   "source": [
    "Vish, os pontos em pi tão corretos, mas os valores estão palha. Não seria legal se os valores fossem frações de $\\pi$?"
   ]
  },
  {
   "cell_type": "code",
   "execution_count": null,
   "metadata": {},
   "outputs": [],
   "source": [
    "plt.xticks([-np.pi, -np.pi/2, 0, np.pi/2, np.pi],\n",
    "       [r'$-\\pi$', r'$-\\pi/2$', r'$0$', r'$+\\pi/2$', r'$+\\pi$'])\n",
    "plt.yticks([-1, 0, +1])\n",
    "\n",
    "plt.plot(X, C, color=\"blue\", linewidth=2.5, linestyle=\"-\", label=\"cosseno\")\n",
    "plt.plot(X, S, color=\"red\",  linewidth=2.5, linestyle=\"-\", label=\"seno\")\n",
    "\n",
    "plt.legend(loc='upper left', frameon=False)\n",
    "\n",
    "plt.show()"
   ]
  },
  {
   "cell_type": "markdown",
   "metadata": {},
   "source": [
    "O gráfico está dentro de uma caixa. Não seria melhor que eles estivecem como uma cruz na origem?\n",
    "\n",
    "Spines são as linhas aonde os _ticks_ ficam, e elas podem ser movidas para qualquer posição.\n",
    "\n",
    "Vamos eliminar as linhas de cima e da direita, e colocar a da esquerda e a de baixo centralizadas no gráfico:"
   ]
  },
  {
   "cell_type": "code",
   "execution_count": null,
   "metadata": {},
   "outputs": [],
   "source": [
    "ax = plt.gca()\n",
    "ax.spines['right'].set_color('none')\n",
    "ax.spines['top'].set_color('none')\n",
    "ax.xaxis.set_ticks_position('bottom')\n",
    "ax.spines['bottom'].set_position(('data',0))\n",
    "ax.yaxis.set_ticks_position('left')\n",
    "ax.spines['left'].set_position(('data',0))\n",
    "\n",
    "plt.xticks([-np.pi, -np.pi/2, 0, np.pi/2, np.pi],\n",
    "       [r'$-\\pi$', r'$-\\pi/2$', r'$0$', r'$+\\pi/2$', r'$+\\pi$'])\n",
    "plt.yticks([-1, 0, +1])\n",
    "\n",
    "plt.plot(X, C, color=\"blue\", linewidth=2.5, linestyle=\"-\", label=\"cosseno\")\n",
    "plt.plot(X, S, color=\"red\",  linewidth=2.5, linestyle=\"-\", label=\"seno\")\n",
    "\n",
    "plt.legend(loc='upper left', frameon=False)\n",
    "\n",
    "plt.show()"
   ]
  },
  {
   "cell_type": "markdown",
   "metadata": {},
   "source": [
    "E se a gente quiser marcar pontos específicos no gráfico e destacar? Por exemplo, gostariamos de ver no gráfico onde fica o ponto $2\\pi/3$ nas duas funções. Vamos marcar as posições com um ponto, e vamos também fazer uma reta pontilhada até eles:"
   ]
  },
  {
   "cell_type": "code",
   "execution_count": null,
   "metadata": {},
   "outputs": [],
   "source": [
    "ax = plt.gca()\n",
    "ax.spines['right'].set_color('none')\n",
    "ax.spines['top'].set_color('none')\n",
    "ax.xaxis.set_ticks_position('bottom')\n",
    "ax.spines['bottom'].set_position(('data',0))\n",
    "ax.yaxis.set_ticks_position('left')\n",
    "ax.spines['left'].set_position(('data',0))\n",
    "\n",
    "plt.xticks([-np.pi, -np.pi/2, 0, np.pi/2, np.pi],\n",
    "       [r'$-\\pi$', r'$-\\pi/2$', r'$0$', r'$+\\pi/2$', r'$+\\pi$'])\n",
    "plt.yticks([-1, 0, +1])\n",
    "\n",
    "plt.plot(X, C, color=\"blue\", linewidth=2.5, linestyle=\"-\", label=\"cosseno\")\n",
    "plt.plot(X, S, color=\"red\",  linewidth=2.5, linestyle=\"-\", label=\"seno\")\n",
    "\n",
    "plt.legend(loc='upper left')\n",
    "\n",
    "\n",
    "t = 2*np.pi/3\n",
    "#Plota a linha\n",
    "plt.plot([t,t],[np.sin(t),0], color ='r', linewidth=1.5, linestyle=\"--\")\n",
    "plt.plot([t,t],[0,np.cos(t)], color ='b', linewidth=1.5, linestyle=\"--\")\n",
    "\n",
    "\n",
    "#plota os pontos usando a funcao scatter\n",
    "plt.scatter([t,],[np.cos(t),], 50, color ='blue')\n",
    "plt.scatter([t,],[np.sin(t),], 50, color ='red')\n",
    "\n",
    "\n",
    "plt.annotate(r'$\\sin(\\frac{2\\pi}{3})=\\frac{\\sqrt{3}}{2}$',\n",
    "             xy=(t, np.sin(t)),\n",
    "             xytext=(+10, +30), textcoords='offset points', fontsize=12,\n",
    "             arrowprops=dict(arrowstyle=\"->\", connectionstyle=\"arc3,rad=.2\"))\n",
    "\n",
    "plt.annotate(r'$\\cos(\\frac{2\\pi}{3})=-\\frac{1}{2}$',\n",
    "             xy=(t, np.cos(t)),\n",
    "             xytext=(-90, -50), textcoords='offset points', fontsize=12,\n",
    "             arrowprops=dict(arrowstyle=\"->\", connectionstyle=\"arc3,rad=.2\"))\n",
    "\n",
    "plt.show()"
   ]
  },
  {
   "cell_type": "markdown",
   "metadata": {},
   "source": [
    "Agora com esse monte de coisas tá meio ruim de ler os _ticks_ né? Tem como aumentar a fonte dele?"
   ]
  },
  {
   "cell_type": "code",
   "execution_count": null,
   "metadata": {},
   "outputs": [],
   "source": [
    "ax = plt.gca()\n",
    "ax.spines['right'].set_color('none')\n",
    "ax.spines['top'].set_color('none')\n",
    "ax.xaxis.set_ticks_position('bottom')\n",
    "ax.spines['bottom'].set_position(('data',0))\n",
    "ax.yaxis.set_ticks_position('left')\n",
    "ax.spines['left'].set_position(('data',0))\n",
    "\n",
    "plt.xticks([-np.pi, -np.pi/2, 0, np.pi/2, np.pi],\n",
    "       [r'$-\\pi$', r'$-\\pi/2$', r'$0$', r'$+\\pi/2$', r'$+\\pi$'])\n",
    "plt.yticks([-1, 0, +1])\n",
    "\n",
    "plt.plot(X, C, color=\"blue\", linewidth=2.5, linestyle=\"-\", label=\"cosseno\")\n",
    "plt.plot(X, S, color=\"red\",  linewidth=2.5, linestyle=\"-\", label=\"seno\")\n",
    "\n",
    "plt.legend(loc='upper left', frameon=False)\n",
    "\n",
    "\n",
    "t = 2*np.pi/3\n",
    "#Plota a linha\n",
    "plt.plot([t,t],[np.sin(t),np.cos(t)], color ='black', linewidth=1.5, linestyle=\"--\")\n",
    "\n",
    "#plota os pontos usando a funcao scatter\n",
    "plt.scatter([t,],[np.cos(t),], 50, color ='blue')\n",
    "plt.scatter([t,],[np.sin(t),], 50, color ='red')\n",
    "\n",
    "\n",
    "plt.annotate(r'$\\sin(\\frac{2\\pi}{3})=\\frac{\\sqrt{3}}{2}$',\n",
    "             xy=(t, np.sin(t)),\n",
    "             xytext=(+10, +30), textcoords='offset points', fontsize=12,\n",
    "             arrowprops=dict(arrowstyle=\"->\", connectionstyle=\"arc3,rad=.2\"))\n",
    "\n",
    "plt.annotate(r'$\\cos(\\frac{2\\pi}{3})=-\\frac{1}{2}$',\n",
    "             xy=(t, np.cos(t)),\n",
    "             xytext=(-90, -50), textcoords='offset points', fontsize=12,\n",
    "             arrowprops=dict(arrowstyle=\"->\", connectionstyle=\"arc3,rad=.2\"))\n",
    "\n",
    "#Altera os ticks\n",
    "for label in ax.get_xticklabels() + ax.get_yticklabels():\n",
    "    label.set_fontsize(12)\n",
    "\n",
    "\n",
    "plt.show()"
   ]
  },
  {
   "cell_type": "markdown",
   "metadata": {},
   "source": [
    "Legal né?\n",
    "\n",
    "### Agora vocês não tem mais desculpa para fazer gráficos feios!"
   ]
  },
  {
   "cell_type": "code",
   "execution_count": null,
   "metadata": {},
   "outputs": [],
   "source": []
  }
 ],
 "metadata": {
  "kernelspec": {
   "display_name": "Python 3 (ipykernel)",
   "language": "python",
   "name": "python3"
  },
  "language_info": {
   "codemirror_mode": {
    "name": "ipython",
    "version": 3
   },
   "file_extension": ".py",
   "mimetype": "text/x-python",
   "name": "python",
   "nbconvert_exporter": "python",
   "pygments_lexer": "ipython3",
   "version": "3.10.6"
  }
 },
 "nbformat": 4,
 "nbformat_minor": 2
}
